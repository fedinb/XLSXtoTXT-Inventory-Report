{
 "cells": [
  {
   "cell_type": "markdown",
   "metadata": {},
   "source": [
    "This code is meant to transform initial file with inventory report into textfile that can be uploaded into GCR."
   ]
  },
  {
   "cell_type": "code",
   "execution_count": 1,
   "metadata": {},
   "outputs": [],
   "source": [
    "import pandas as pd\n",
    "import numpy as np\n",
    "from datetime import datetime, timedelta, date"
   ]
  },
  {
   "cell_type": "markdown",
   "metadata": {},
   "source": [
    "Lines below let the user fully observe the initial data and final output."
   ]
  },
  {
   "cell_type": "code",
   "execution_count": 2,
   "metadata": {},
   "outputs": [],
   "source": [
    "pd.set_option('display.width', 150)\n",
    "pd.options.display.max_colwidth = 150"
   ]
  },
  {
   "cell_type": "markdown",
   "metadata": {},
   "source": [
    "This table shows movement codes meant for movement types."
   ]
  },
  {
   "cell_type": "code",
   "execution_count": 3,
   "metadata": {
    "scrolled": false
   },
   "outputs": [
    {
     "name": "stdout",
     "output_type": "stream",
     "text": [
      "  Movement_Type Movement_Code\n",
      "0         Stock            01\n",
      "1       Transit            04\n",
      "2       Shipped            03\n",
      "3           OOS            05\n"
     ]
    }
   ],
   "source": [
    "movement_chart = pd.DataFrame({'Movement_Type': ['Stock','Transit','Shipped','OOS'],\n",
    "                                'Movement_Code': ['01','04','03','05']},\n",
    "                              columns=['Movement_Type','Movement_Code'])\n",
    "print(movement_chart)"
   ]
  },
  {
   "cell_type": "markdown",
   "metadata": {},
   "source": [
    "Excel-file with inventory report is imported and cyrillic column names are changed."
   ]
  },
  {
   "cell_type": "code",
   "execution_count": 4,
   "metadata": {
    "scrolled": true
   },
   "outputs": [],
   "source": [
    "df = pd.read_excel (r'C:\\Users\\БФедин\\OneDrive - GENERIX\\InventoryReports\\Балтика 20.11-22.11.xlsx')\n",
    "df = df.rename(columns={'Дата отчета':'Movement_Date','Дата резерва':'Transit_Date', \\\n",
    "                       'РЦ':'Site_Code','Код ТП':'Internal_Code','Наименование ТП':'Item_Name', \\\n",
    "                       'ШК ТП':'EAN_Code','Остаток на РЦ, шт':'Stock','Заказ ТТ, шт':'Demand', \\\n",
    "                       'Отгружено на ТТ, шт':'Shipped','Недогруз в магазины, шт':'OOS','В ожидании поставки, шт':'Transit'})"
   ]
  },
  {
   "cell_type": "markdown",
   "metadata": {},
   "source": [
    "Blank cells in columns below are replaced with zero."
   ]
  },
  {
   "cell_type": "code",
   "execution_count": 5,
   "metadata": {
    "scrolled": false
   },
   "outputs": [],
   "source": [
    "df[['Stock','Demand','Shipped','OOS','Transit']] = df[['Stock','Demand','Shipped','OOS','Transit']].fillna(0)"
   ]
  },
  {
   "cell_type": "markdown",
   "metadata": {},
   "source": [
    "Integer format is applied to columns with numbers."
   ]
  },
  {
   "cell_type": "code",
   "execution_count": 6,
   "metadata": {},
   "outputs": [],
   "source": [
    "df[['Stock','Demand','Shipped','OOS','Transit']] = df[['Stock','Demand','Shipped','OOS','Transit']].astype(int)"
   ]
  },
  {
   "cell_type": "markdown",
   "metadata": {},
   "source": [
    "String format is applied to columns with codes. They should be regarded as text values."
   ]
  },
  {
   "cell_type": "code",
   "execution_count": 7,
   "metadata": {},
   "outputs": [],
   "source": [
    "df[['Internal_Code','EAN_Code','Site_Code']] = df[['Internal_Code','EAN_Code','Site_Code']].astype(str)"
   ]
  },
  {
   "cell_type": "code",
   "execution_count": 8,
   "metadata": {
    "scrolled": true
   },
   "outputs": [
    {
     "name": "stdout",
     "output_type": "stream",
     "text": [
      "<class 'pandas.core.frame.DataFrame'>\n",
      "RangeIndex: 167 entries, 0 to 166\n",
      "Data columns (total 11 columns):\n",
      " #   Column         Non-Null Count  Dtype         \n",
      "---  ------         --------------  -----         \n",
      " 0   Movement_Date  167 non-null    datetime64[ns]\n",
      " 1   Transit_Date   86 non-null     datetime64[ns]\n",
      " 2   Site_Code      167 non-null    object        \n",
      " 3   Internal_Code  167 non-null    object        \n",
      " 4   Item_Name      167 non-null    object        \n",
      " 5   EAN_Code       167 non-null    object        \n",
      " 6   Stock          167 non-null    int32         \n",
      " 7   Demand         167 non-null    int32         \n",
      " 8   Shipped        167 non-null    int32         \n",
      " 9   OOS            167 non-null    int32         \n",
      " 10  Transit        167 non-null    int32         \n",
      "dtypes: datetime64[ns](2), int32(5), object(4)\n",
      "memory usage: 11.2+ KB\n",
      "None\n"
     ]
    }
   ],
   "source": [
    "print(df.info())"
   ]
  },
  {
   "cell_type": "markdown",
   "metadata": {},
   "source": [
    "Site Names are replaced with GLN codes."
   ]
  },
  {
   "cell_type": "code",
   "execution_count": 9,
   "metadata": {},
   "outputs": [],
   "source": [
    "df['Site_Code'].replace(to_replace='.*[Тт]ольятти.*',value=4680328532412,regex=True, inplace=True )"
   ]
  },
  {
   "cell_type": "markdown",
   "metadata": {},
   "source": [
    "Case Count is taken from the end of Item's name."
   ]
  },
  {
   "cell_type": "code",
   "execution_count": 10,
   "metadata": {},
   "outputs": [],
   "source": [
    "df['Case_Count'] = df['Item_Name'].str.split(':').str[1]"
   ]
  },
  {
   "cell_type": "markdown",
   "metadata": {},
   "source": [
    "Item Type with 00 means Standard Type. By now it's the only possible value."
   ]
  },
  {
   "cell_type": "code",
   "execution_count": 11,
   "metadata": {},
   "outputs": [],
   "source": [
    "df['Item_Type'] = '00'"
   ]
  },
  {
   "cell_type": "markdown",
   "metadata": {},
   "source": [
    "New format with only date (not time) is applied to column with Transit date."
   ]
  },
  {
   "cell_type": "code",
   "execution_count": 12,
   "metadata": {},
   "outputs": [],
   "source": [
    "df['Transit_Date'] = pd.to_datetime(df['Transit_Date'], format='%Y-%m-%d',errors='coerce')"
   ]
  },
  {
   "cell_type": "markdown",
   "metadata": {},
   "source": [
    "If report is sent on Monday, data for Friday and Saturday may have blank cells in Transit Date columns. For these cases, blank cells are replaced with values from Movement Date column."
   ]
  },
  {
   "cell_type": "code",
   "execution_count": 13,
   "metadata": {},
   "outputs": [],
   "source": [
    "df['Transit_Date'] = df['Transit_Date'].fillna(df['Movement_Date'])"
   ]
  },
  {
   "cell_type": "markdown",
   "metadata": {},
   "source": [
    "Transit with only 4 days after laters Movement Date is kept in dataframe."
   ]
  },
  {
   "cell_type": "code",
   "execution_count": 14,
   "metadata": {},
   "outputs": [],
   "source": [
    "end_date = pd.to_datetime(df['Movement_Date'].max()) + pd.DateOffset(days=4)\n",
    "\n",
    "\n",
    "df['Transit'] = np.where((df['Transit_Date'] > end_date),0,df['Transit'])"
   ]
  },
  {
   "cell_type": "markdown",
   "metadata": {},
   "source": [
    "Code below helps to limit period in transit with 4 days from history date. It could have been useful, but in some cases one line may include Stock, Shipped and OOS quantities for History Date, but Transit quantities will be set for distant date (more than 4 days after latest history date)."
   ]
  },
  {
   "cell_type": "code",
   "execution_count": 15,
   "metadata": {},
   "outputs": [],
   "source": [
    "# df = df[(df['Transit_Date'] >= df['Movement_Date'].min()) & (df['Transit_Date'] <= end_date)]"
   ]
  },
  {
   "cell_type": "code",
   "execution_count": 16,
   "metadata": {},
   "outputs": [],
   "source": [
    "df = df.reset_index(drop=True)"
   ]
  },
  {
   "cell_type": "markdown",
   "metadata": {},
   "source": [
    "New dataframe is a grouped version of initial dataframe where all quantity columns are summed up."
   ]
  },
  {
   "cell_type": "code",
   "execution_count": 17,
   "metadata": {},
   "outputs": [],
   "source": [
    "df_slim = df.groupby(['Movement_Date','Site_Code','Internal_Code','Item_Name','EAN_Code','Item_Type','Case_Count']) \\\n",
    "                    [['Stock','Transit','Shipped','OOS']].sum()"
   ]
  },
  {
   "cell_type": "code",
   "execution_count": 18,
   "metadata": {},
   "outputs": [],
   "source": [
    "df_slim = df_slim.reset_index()"
   ]
  },
  {
   "cell_type": "markdown",
   "metadata": {},
   "source": [
    "Dataframe gets new columns' order."
   ]
  },
  {
   "cell_type": "code",
   "execution_count": 19,
   "metadata": {
    "scrolled": true
   },
   "outputs": [],
   "source": [
    "df_slim = df_slim[['Site_Code','EAN_Code','Item_Type','Case_Count','Movement_Date', \\\n",
    "                   'Stock','Transit','Shipped','OOS','Internal_Code']]"
   ]
  },
  {
   "cell_type": "markdown",
   "metadata": {},
   "source": [
    "Column names with Movement Types are replaced by Movement Codes that are available at the beginning of the document."
   ]
  },
  {
   "cell_type": "code",
   "execution_count": 20,
   "metadata": {},
   "outputs": [],
   "source": [
    "df_slim = df_slim.rename(columns={'Stock':'01','Transit':'04','Shipped':'03','OOS':'05'})"
   ]
  },
  {
   "cell_type": "code",
   "execution_count": 21,
   "metadata": {},
   "outputs": [],
   "source": [
    "df_melt = pd.melt(df_slim,id_vars=['Site_Code','EAN_Code','Item_Type','Case_Count','Movement_Date','Internal_Code'],\n",
    "                    value_vars=['01','04','03','05'],\n",
    "                    var_name='Movement_Code',value_name='Quantity')"
   ]
  },
  {
   "cell_type": "markdown",
   "metadata": {},
   "source": [
    "Movement Codes are melt for every line."
   ]
  },
  {
   "cell_type": "code",
   "execution_count": 22,
   "metadata": {
    "scrolled": true
   },
   "outputs": [],
   "source": [
    "df_melt = df_melt[['Movement_Code','Site_Code','EAN_Code','Item_Type','Case_Count',\n",
    "                      'Movement_Date','Quantity','Internal_Code']]"
   ]
  },
  {
   "cell_type": "markdown",
   "metadata": {},
   "source": [
    "Lines with no Out Of Stock quantity are deleted."
   ]
  },
  {
   "cell_type": "code",
   "execution_count": 23,
   "metadata": {},
   "outputs": [],
   "source": [
    "df_melt = df_melt.drop(df_melt[(df_melt['Movement_Code'] == '05') & (df_melt['Quantity'] == 0)].index)"
   ]
  },
  {
   "cell_type": "markdown",
   "metadata": {},
   "source": [
    "New format for date is applied to Movement Date column. It has no separators and always gets length of 8 symbols."
   ]
  },
  {
   "cell_type": "code",
   "execution_count": 24,
   "metadata": {},
   "outputs": [],
   "source": [
    "df_melt[\"Movement_Date\"] = df_melt[\"Movement_Date\"].dt.strftime(\"%d%m%Y\")\n",
    "df_melt['Movement_Date'] = df_melt['Movement_Date'].astype(str)\n",
    "df_melt['Movement_Date'] = df_melt['Movement_Date'].str.zfill(8)"
   ]
  },
  {
   "cell_type": "markdown",
   "metadata": {},
   "source": [
    "Case Count should always have the length of 4 symbols, that's why leading zeros are added."
   ]
  },
  {
   "cell_type": "code",
   "execution_count": 25,
   "metadata": {},
   "outputs": [],
   "source": [
    "df_melt['Case_Count'] = df_melt['Case_Count'].str.zfill(4)"
   ]
  },
  {
   "cell_type": "markdown",
   "metadata": {},
   "source": [
    "Case Count should always have the length of 10 symbols, that's why leading zeros are added."
   ]
  },
  {
   "cell_type": "code",
   "execution_count": 26,
   "metadata": {},
   "outputs": [],
   "source": [
    "df_melt['Quantity'] = df_melt['Quantity'].astype(str)\n",
    "df_melt['Quantity'] = df_melt['Quantity'].str.zfill(10)"
   ]
  },
  {
   "cell_type": "markdown",
   "metadata": {},
   "source": [
    "Index is reset."
   ]
  },
  {
   "cell_type": "code",
   "execution_count": 27,
   "metadata": {},
   "outputs": [],
   "source": [
    "df_melt = df_melt.reset_index(drop=True)"
   ]
  },
  {
   "cell_type": "markdown",
   "metadata": {},
   "source": [
    "Line below concatenates all the columns without delimeters. Each line corresponds to one movement type per one item on a certain date."
   ]
  },
  {
   "cell_type": "code",
   "execution_count": 29,
   "metadata": {
    "scrolled": true
   },
   "outputs": [
    {
     "name": "stdout",
     "output_type": "stream",
     "text": [
      "0    01468032853241246006823701300000202011202000000106151000023046\n",
      "1    01468032853241246006825754740000202011202000000014001000105264\n",
      "2    01468032853241246006826634470000202011202000000016461000162982\n",
      "3    01468032853241246006824074780000202011202000000283601000184411\n",
      "4    01468032853241246006822084880000202011202000000154201000184415\n",
      "5    01468032853241246006824834720000202011202000000132001000184418\n",
      "6    01468032853241246006822004510000242011202000000087171000188046\n",
      "7    01468032853241246006822514530000242011202000000025921000188100\n",
      "8    01468032853241246006820074560000242011202000000558531000188102\n",
      "9    01468032853241246006829915400000242011202000000229771000188105\n",
      "dtype: object\n"
     ]
    }
   ],
   "source": [
    "df_invrpt = df_melt.apply(lambda row: ''.join(row.values.astype(str)), axis=1)\n",
    "\n",
    "print(df_invrpt.head(10))"
   ]
  },
  {
   "cell_type": "markdown",
   "metadata": {},
   "source": [
    "Line meant for text-file export."
   ]
  },
  {
   "cell_type": "code",
   "execution_count": 30,
   "metadata": {},
   "outputs": [],
   "source": [
    "# df_invrpt.to_csv(r'C:\\Users\\БФедин\\OneDrive - GENERIX\\InventoryReports\\22.11_Report.txt',\n",
    "#                  sep=' ',index=False,header=False)"
   ]
  },
  {
   "cell_type": "markdown",
   "metadata": {},
   "source": [
    "Line meant for Excel-file export."
   ]
  },
  {
   "cell_type": "code",
   "execution_count": 31,
   "metadata": {},
   "outputs": [],
   "source": [
    "# df.to_excel(r'C:\\Users\\БФедин\\OneDrive - GENERIX\\InventoryReports\\22.11_Report.xlsx')"
   ]
  }
 ],
 "metadata": {
  "kernelspec": {
   "display_name": "Python 3",
   "language": "python",
   "name": "python3"
  },
  "language_info": {
   "codemirror_mode": {
    "name": "ipython",
    "version": 3
   },
   "file_extension": ".py",
   "mimetype": "text/x-python",
   "name": "python",
   "nbconvert_exporter": "python",
   "pygments_lexer": "ipython3",
   "version": "3.8.3"
  }
 },
 "nbformat": 4,
 "nbformat_minor": 4
}
